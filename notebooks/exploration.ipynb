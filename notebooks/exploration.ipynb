{
 "cells": [
  {
   "cell_type": "markdown",
   "id": "d431d265",
   "metadata": {},
   "source": [
    "# TRANSFORMERS-PROJECT Exploration Notebook\n",
    "\n",
    "This notebook demonstrates the capabilities of the various pipelines in the project.\n",
    "\n",
    "## Setup\n",
    "\n",
    "```python\n",
    "import logging\n",
    "from src.pipelines import (\n",
    "    SummarizationPipeline,\n",
    "    TextClassificationPipeline,\n",
    "    TranslationPipeline\n",
    ")\n",
    "\n",
    "# Configure logging\n",
    "logging.basicConfig(level=logging.INFO)"
   ]
  },
  {
   "cell_type": "code",
   "execution_count": null,
   "id": "3d875442",
   "metadata": {
    "vscode": {
     "languageId": "plaintext"
    }
   },
   "outputs": [],
   "source": [
    "# Text Summarization\n",
    "# Initialize pipeline\n",
    "summarizer = SummarizationPipeline()\n",
    "\n",
    "# Sample text\n",
    "article = \"\"\"\n",
    "The field of natural language processing has seen significant advances in recent years, \n",
    "particularly with the advent of transformer models. These models, such as BERT and GPT, \n",
    "have revolutionized how machines understand human language. They use attention mechanisms \n",
    "to process words in relation to all other words in a sentence, rather than one-by-one in order.\n",
    "This allows for much better understanding of context and nuance in language.\n",
    "\"\"\"\n",
    "\n",
    "# Generate summary\n",
    "summary = summarizer.summarize(article, max_length=100, min_length=30)\n",
    "print(f\"Summary: {summary}\")"
   ]
  },
  {
   "cell_type": "code",
   "execution_count": null,
   "id": "080a7a23",
   "metadata": {
    "vscode": {
     "languageId": "plaintext"
    }
   },
   "outputs": [],
   "source": [
    "# Text Classification\n",
    "# Initialize zero-shot classifier\n",
    "zero_shot_classifier = TextClassificationPipeline(zero_shot=True)\n",
    "\n",
    "# Sample text and labels\n",
    "text = \"The new movie was amazing with incredible performances and stunning visuals.\"\n",
    "labels = [\"positive\", \"negative\", \"neutral\"]\n",
    "\n",
    "# Classify\n",
    "result = zero_shot_classifier.classify(text, labels)\n",
    "print(f\"Classification result: {result}\")"
   ]
  },
  {
   "cell_type": "code",
   "execution_count": null,
   "id": "75423a0d",
   "metadata": {
    "vscode": {
     "languageId": "plaintext"
    }
   },
   "outputs": [],
   "source": [
    "# Machine Translation\n",
    "# Initialize pipeline (English to German)\n",
    "translator = TranslationPipeline()\n",
    "\n",
    "# Sample text\n",
    "text = \"Hello world, this is a test of the translation system.\"\n",
    "\n",
    "# Translate\n",
    "translation = translator.translate(text)\n",
    "print(f\"Translation: {translation}\")"
   ]
  },
  {
   "cell_type": "code",
   "execution_count": null,
   "id": "7a83d115",
   "metadata": {
    "vscode": {
     "languageId": "plaintext"
    }
   },
   "outputs": [],
   "source": [
    "# Batch Processing\n",
    "# Sample texts\n",
    "articles = [\n",
    "    \"First article about transformers and their impact on NLP.\",\n",
    "    \"Second article discussing the limitations of current models.\"\n",
    "]\n",
    "\n",
    "# Batch summarization\n",
    "summaries = summarizer.batch_summarize(articles)\n",
    "for i, summary in enumerate(summaries):\n",
    "    print(f\"Summary {i+1}: {summary}\")"
   ]
  },
  {
   "cell_type": "code",
   "execution_count": null,
   "id": "8ef20e37",
   "metadata": {
    "vscode": {
     "languageId": "plaintext"
    }
   },
   "outputs": [],
   "source": [
    "# Custom Model Selection\n",
    "# Initialize with custom model\n",
    "custom_summarizer = SummarizationPipeline(model_name=\"google/pegasus-xsum\")\n",
    "custom_summary = custom_summarizer.summarize(article)\n",
    "print(f\"Custom model summary: {custom_summary}\")"
   ]
  }
 ],
 "metadata": {
  "language_info": {
   "name": "python"
  }
 },
 "nbformat": 4,
 "nbformat_minor": 5
}
